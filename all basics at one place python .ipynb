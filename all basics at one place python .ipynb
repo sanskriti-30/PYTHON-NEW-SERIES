{
 "cells": [
  {
   "cell_type": "code",
   "execution_count": 9,
   "id": "c4ffd6cc",
   "metadata": {},
   "outputs": [
    {
     "data": {
      "text/plain": [
       "'this is a \\nmultiline\\ncomment'"
      ]
     },
     "execution_count": 9,
     "metadata": {},
     "output_type": "execute_result"
    }
   ],
   "source": [
    "# ## <---- is used as comments for better understanding of program in future\n",
    "# these programs are written by sanskriti\n",
    "#### shortcut for commenting and uncommenting is (ctrl+/)\n",
    "# <----- this is called as pound symbol\n",
    "\"\"\"this is a \n",
    "multiline\n",
    "comment\"\"\"\n",
    "\n"
   ]
  },
  {
   "cell_type": "code",
   "execution_count": 6,
   "id": "597b0a13",
   "metadata": {},
   "outputs": [
    {
     "name": "stdout",
     "output_type": "stream",
     "text": [
      "hello world 7\n"
     ]
    }
   ],
   "source": [
    "###this commamd is used for printing different statements\n",
    "print(\"hello world\",7)"
   ]
  },
  {
   "cell_type": "code",
   "execution_count": 2,
   "id": "f015ba1e",
   "metadata": {},
   "outputs": [
    {
     "name": "stdout",
     "output_type": "stream",
     "text": [
      "60\n"
     ]
    }
   ],
   "source": [
    "#### not only it prints but also we can use all types of operations by just giving the values inside the brackets \n",
    "print(17+43)"
   ]
  },
  {
   "cell_type": "code",
   "execution_count": 3,
   "id": "f20855c9",
   "metadata": {},
   "outputs": [
    {
     "name": "stdout",
     "output_type": "stream",
     "text": [
      "7\n"
     ]
    }
   ],
   "source": [
    "### no  double commas are required for printing int and float values\n",
    "print(7)"
   ]
  },
  {
   "cell_type": "code",
   "execution_count": 17,
   "id": "d370d300",
   "metadata": {},
   "outputs": [
    {
     "name": "stdout",
     "output_type": "stream",
     "text": [
      "hey~6~6~7\n"
     ]
    }
   ],
   "source": [
    "### we can seperate values from a print statment by using sep=\" \"  by default space is used as a seperator\n",
    "print(\"hey\",6,6,7, sep=\"~\")"
   ]
  },
  {
   "cell_type": "code",
   "execution_count": null,
   "id": "446c45ce",
   "metadata": {},
   "outputs": [],
   "source": [
    "### ESCAPE SEQUENCE CHARACTER \n",
    "# to insert characters that cannot be directly used in a string we use an escape sequence character \n",
    "# it is a backlash \\ followed by the character you want to insert\n"
   ]
  },
  {
   "cell_type": "code",
   "execution_count": 5,
   "id": "e190c448",
   "metadata": {},
   "outputs": [
    {
     "name": "stdout",
     "output_type": "stream",
     "text": [
      "i am a good boy & \n",
      "the viewer is also a good boy\n"
     ]
    }
   ],
   "source": [
    "### if you want to print data in a new line then use 'escape sequence character'\n",
    "print(\"i am a good boy & \\nthe viewer is also a good boy\")"
   ]
  },
  {
   "cell_type": "code",
   "execution_count": 16,
   "id": "7090dabc",
   "metadata": {},
   "outputs": [
    {
     "name": "stdout",
     "output_type": "stream",
     "text": [
      "i am a \"good boy\"  \n",
      "the viewer is also a good boy\n"
     ]
    }
   ],
   "source": [
    "### we can use \\ as escape sequence character to show inverted commmas in the printing statement \n",
    "###so there are ways in whichwe can incorporate the double inverted commas\n",
    "print(\"i am a \\\"good boy\\\"  \\nthe viewer is also a good boy\")"
   ]
  },
  {
   "cell_type": "code",
   "execution_count": 23,
   "id": "9f521cd1",
   "metadata": {},
   "outputs": [
    {
     "name": "stdout",
     "output_type": "stream",
     "text": [
      "49\n",
      "0\n",
      "harry\n",
      "none\n"
     ]
    }
   ],
   "source": [
    "#### variables\n",
    "# they are like containers in which we store data \n",
    "# this data is further stored in the memory which we also call as RAM\n",
    "# and assigning it some values\n",
    "# so we can store different types of data in the variable\n",
    "# for eg\n",
    "\n",
    "a= 49\n",
    "print(a)\n",
    "b=0\n",
    "print(b)\n",
    "c=\"harry\"\n",
    "print(c)\n",
    "d= \"none\"\n",
    "print(d)"
   ]
  },
  {
   "cell_type": "code",
   "execution_count": 32,
   "id": "15c06a74",
   "metadata": {},
   "outputs": [
    {
     "name": "stdout",
     "output_type": "stream",
     "text": [
      "the type of a is <class 'int'>\n",
      "the type of b is  <class 'str'>\n",
      "the type of c is <class 'bool'>\n"
     ]
    }
   ],
   "source": [
    "### DATATYPES \n",
    "# these variables can store a lot of data which can be of different types.\n",
    "# a datatype specifies the types of value the variable holds.helps in performingvarious operations \n",
    "# without causing error. we can print the type of any operator using type function\n",
    "#for eg\n",
    "a= 6\n",
    "print(\"the type of a is\",type(a))\n",
    "b=\"we love python\"\n",
    "print(\"the type of b is \", type(b))\n",
    "c=True\n",
    "print(\"the type of c is\", type(c))"
   ]
  },
  {
   "cell_type": "code",
   "execution_count": 33,
   "id": "e082ff18",
   "metadata": {},
   "outputs": [
    {
     "name": "stdout",
     "output_type": "stream",
     "text": [
      "the type of a is <class 'int'>\n",
      "the type of b is <class 'float'>\n",
      "the type of c is <class 'complex'>\n"
     ]
    }
   ],
   "source": [
    "### there are different types of datatypes\n",
    "# 1.numeric data: int float complex\n",
    "a=5\n",
    "print(\"the type of a is\",type(a))\n",
    "b= 2.2\n",
    "print(\"the type of b is\",type(b))\n",
    "c= complex(6,9)\n",
    "print(\"the type of c is\",type(c))"
   ]
  },
  {
   "cell_type": "code",
   "execution_count": 34,
   "id": "6e5c384d",
   "metadata": {},
   "outputs": [
    {
     "name": "stdout",
     "output_type": "stream",
     "text": [
      "the type of a is <class 'str'>\n"
     ]
    }
   ],
   "source": [
    "# 2.text data: str\n",
    "a= \"sanskritii loves herself\"\n",
    "print(\"the type of a is\",type(a))"
   ]
  },
  {
   "cell_type": "code",
   "execution_count": 35,
   "id": "de18b8db",
   "metadata": {},
   "outputs": [
    {
     "name": "stdout",
     "output_type": "stream",
     "text": [
      "the type of c is <class 'bool'>\n"
     ]
    }
   ],
   "source": [
    "# 3.boolean : True and False\n",
    "c=True\n",
    "print(\"the type of c is\", type(c))"
   ]
  },
  {
   "cell_type": "code",
   "execution_count": 37,
   "id": "2d8ae88f",
   "metadata": {},
   "outputs": [
    {
     "name": "stdout",
     "output_type": "stream",
     "text": [
      "[8, 9, 3, 5, 6]\n",
      "the datatype is <class 'list'>\n"
     ]
    }
   ],
   "source": [
    "# 4.sequenced data:list tuple\n",
    "# list is an ordered colllection of data with elements seperated bya comma\n",
    "# and enclosed within square brackets . lists are mutable which means it can be modified\n",
    "# for eg\n",
    "list1=[8,9,3,5,6]\n",
    "print(list1)\n",
    "print(\"the datatype is\", type(list1))"
   ]
  },
  {
   "cell_type": "code",
   "execution_count": 39,
   "id": "95417d20",
   "metadata": {},
   "outputs": [
    {
     "name": "stdout",
     "output_type": "stream",
     "text": [
      "(67, 47, 94, 35)\n",
      "the datatype is <class 'tuple'>\n"
     ]
    }
   ],
   "source": [
    "#tuple \n",
    "# ordered set of collection of data with elements seperated by comma enclosed by parantheses ,\n",
    "# they are  immutable and cannot be modified after creation.\n",
    "# for eg\n",
    "tuple1 =(67,47,94,35)\n",
    "print(tuple1)\n",
    "print(\"the datatype is\", type(tuple1))"
   ]
  },
  {
   "cell_type": "code",
   "execution_count": 40,
   "id": "61eae45b",
   "metadata": {},
   "outputs": [
    {
     "name": "stdout",
     "output_type": "stream",
     "text": [
      "{'name': 'sanskriti'}\n",
      "the type is  <class 'dict'>\n"
     ]
    }
   ],
   "source": [
    "###dict\n",
    "# a dictionary is an unordered collection of data containing a key:value pair \n",
    "# are enclosed within curly brackets\n",
    "# for \n",
    "dict1={\"name\":\"sanskriti\"}\n",
    "print(dict1)\n",
    "print(\"the type is \", type(dict1))"
   ]
  },
  {
   "cell_type": "code",
   "execution_count": 41,
   "id": "4f6950ad",
   "metadata": {},
   "outputs": [],
   "source": [
    "##############EVERYTHING IN PYTHON IS OBJECTS ########"
   ]
  },
  {
   "cell_type": "code",
   "execution_count": null,
   "id": "ccc564ea",
   "metadata": {},
   "outputs": [],
   "source": []
  }
 ],
 "metadata": {
  "kernelspec": {
   "display_name": "Python 3 (ipykernel)",
   "language": "python",
   "name": "python3"
  },
  "language_info": {
   "codemirror_mode": {
    "name": "ipython",
    "version": 3
   },
   "file_extension": ".py",
   "mimetype": "text/x-python",
   "name": "python",
   "nbconvert_exporter": "python",
   "pygments_lexer": "ipython3",
   "version": "3.11.3"
  }
 },
 "nbformat": 4,
 "nbformat_minor": 5
}
